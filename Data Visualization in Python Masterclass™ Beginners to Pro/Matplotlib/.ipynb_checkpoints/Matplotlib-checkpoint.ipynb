{
 "cells": [
  {
   "cell_type": "markdown",
   "metadata": {},
   "source": [
    "## Matplotlib "
   ]
  },
  {
   "cell_type": "markdown",
   "metadata": {},
   "source": [
    "### Plot "
   ]
  },
  {
   "cell_type": "code",
   "execution_count": null,
   "metadata": {},
   "outputs": [],
   "source": [
    "import matplotlib.pyplot as plt\n",
    "import numpy as np\n",
    "from numpy.random import randint"
   ]
  },
  {
   "cell_type": "code",
   "execution_count": null,
   "metadata": {},
   "outputs": [],
   "source": [
    "%matplotlib inline"
   ]
  },
  {
   "cell_type": "code",
   "execution_count": null,
   "metadata": {},
   "outputs": [],
   "source": [
    "x = np.linspace(1, 10, 20)\n",
    "x"
   ]
  },
  {
   "cell_type": "code",
   "execution_count": null,
   "metadata": {},
   "outputs": [],
   "source": [
    "y = randint(1, 50, 20)"
   ]
  },
  {
   "cell_type": "code",
   "execution_count": null,
   "metadata": {},
   "outputs": [],
   "source": [
    "y"
   ]
  },
  {
   "cell_type": "code",
   "execution_count": null,
   "metadata": {},
   "outputs": [],
   "source": [
    "x.size, y.size"
   ]
  },
  {
   "cell_type": "code",
   "execution_count": null,
   "metadata": {},
   "outputs": [],
   "source": [
    "help(plt)"
   ]
  },
  {
   "cell_type": "code",
   "execution_count": null,
   "metadata": {},
   "outputs": [],
   "source": [
    "plt.plot(y)"
   ]
  },
  {
   "cell_type": "code",
   "execution_count": null,
   "metadata": {},
   "outputs": [],
   "source": [
    "y = y.cumsum()"
   ]
  },
  {
   "cell_type": "code",
   "execution_count": null,
   "metadata": {},
   "outputs": [],
   "source": [
    "plt.plot(y)"
   ]
  },
  {
   "cell_type": "code",
   "execution_count": null,
   "metadata": {},
   "outputs": [],
   "source": [
    "plt.plot(x, y)"
   ]
  },
  {
   "cell_type": "code",
   "execution_count": null,
   "metadata": {},
   "outputs": [],
   "source": [
    "plt.plot(x, y, color = 'r', marker = 'o')"
   ]
  },
  {
   "cell_type": "code",
   "execution_count": null,
   "metadata": {},
   "outputs": [],
   "source": [
    "plt.plot(x, y, color = 'r', marker = '*', linestyle = '--')"
   ]
  },
  {
   "cell_type": "markdown",
   "metadata": {},
   "source": [
    "### Label "
   ]
  },
  {
   "cell_type": "code",
   "execution_count": null,
   "metadata": {},
   "outputs": [],
   "source": [
    "plt.plot(x, y, color = 'r', marker = '*', linestyle = '--')\n",
    "plt.xlabel('x axis')\n",
    "plt.ylabel('y axis')\n",
    "plt.title('This is a demo plot')\n",
    "plt.show()"
   ]
  },
  {
   "cell_type": "markdown",
   "metadata": {},
   "source": [
    "### Scatter, Bar, Hist, and Box Plots "
   ]
  },
  {
   "cell_type": "code",
   "execution_count": null,
   "metadata": {},
   "outputs": [],
   "source": [
    "x, y"
   ]
  },
  {
   "cell_type": "code",
   "execution_count": null,
   "metadata": {},
   "outputs": [],
   "source": [
    "plt.scatter(x, y, linewidth = 2)\n",
    "plt.show()"
   ]
  },
  {
   "cell_type": "code",
   "execution_count": null,
   "metadata": {},
   "outputs": [],
   "source": [
    "b = [10, 23, 43, 5, 66]\n",
    "a = ['a', 'b', 'c', 'd', 'e']\n",
    "\n",
    "plt.bar(a, b, width=0.9)"
   ]
  },
  {
   "cell_type": "code",
   "execution_count": null,
   "metadata": {},
   "outputs": [],
   "source": []
  },
  {
   "cell_type": "code",
   "execution_count": null,
   "metadata": {},
   "outputs": [],
   "source": [
    "plt.hist(y, rwidth = 0.8, bins = 30)"
   ]
  },
  {
   "cell_type": "code",
   "execution_count": null,
   "metadata": {},
   "outputs": [],
   "source": []
  },
  {
   "cell_type": "code",
   "execution_count": null,
   "metadata": {},
   "outputs": [],
   "source": [
    "data = [np.random.normal(0, std, 100) for std in range(1, 3)]"
   ]
  },
  {
   "cell_type": "code",
   "execution_count": null,
   "metadata": {},
   "outputs": [],
   "source": [
    "data[1]"
   ]
  },
  {
   "cell_type": "code",
   "execution_count": null,
   "metadata": {},
   "outputs": [],
   "source": [
    "plt.boxplot(data, vert = True, patch_artist=True)\n",
    "plt.show()"
   ]
  },
  {
   "cell_type": "code",
   "execution_count": null,
   "metadata": {},
   "outputs": [],
   "source": []
  },
  {
   "cell_type": "markdown",
   "metadata": {},
   "source": [
    "### Subplot "
   ]
  },
  {
   "cell_type": "code",
   "execution_count": null,
   "metadata": {},
   "outputs": [],
   "source": [
    "x"
   ]
  },
  {
   "cell_type": "code",
   "execution_count": null,
   "metadata": {},
   "outputs": [],
   "source": [
    "y"
   ]
  },
  {
   "cell_type": "code",
   "execution_count": null,
   "metadata": {},
   "outputs": [],
   "source": [
    "y2 = y*x"
   ]
  },
  {
   "cell_type": "code",
   "execution_count": null,
   "metadata": {},
   "outputs": [],
   "source": [
    "plt.plot(x, y)\n",
    "plt.plot(x, y2)"
   ]
  },
  {
   "cell_type": "code",
   "execution_count": null,
   "metadata": {},
   "outputs": [],
   "source": [
    "plt.subplot(1, 2, 1)\n",
    "plt.plot(x, y)\n",
    "\n",
    "plt.subplot(1, 2, 2)\n",
    "plt.plot(x, y2)"
   ]
  },
  {
   "cell_type": "code",
   "execution_count": null,
   "metadata": {},
   "outputs": [],
   "source": [
    "plt.subplot(1, 2, 1)\n",
    "plt.plot(x, y, marker = 'o', color = 'r')\n",
    "\n",
    "plt.subplot(1, 2, 2)\n",
    "plt.plot(x, y2, marker = '*', color = 'k', markersize = 10)"
   ]
  },
  {
   "cell_type": "code",
   "execution_count": null,
   "metadata": {},
   "outputs": [],
   "source": []
  },
  {
   "cell_type": "code",
   "execution_count": null,
   "metadata": {},
   "outputs": [],
   "source": [
    "fig = plt.figure()\n",
    "ax1 = fig.add_axes([0, 0, 1, 1])\n",
    "ax2 = fig.add_axes([0.1, 0.6, 0.4, 0.3])\n",
    "\n",
    "ax1.plot(x, y, 'r')\n",
    "ax1.set_xlabel('X')\n",
    "ax1.set_ylabel('Y')\n",
    "ax1.set_title('Y Plot')\n",
    "\n",
    "ax2.plot(x, y2, 'g')\n",
    "ax2.set_xlabel('X')\n",
    "ax2.set_ylabel('Y')\n",
    "ax2.set_title('Y2 Plot')"
   ]
  },
  {
   "cell_type": "code",
   "execution_count": null,
   "metadata": {},
   "outputs": [],
   "source": []
  },
  {
   "cell_type": "markdown",
   "metadata": {},
   "source": [
    "### xlim, ylim, xticks, and yticks "
   ]
  },
  {
   "cell_type": "code",
   "execution_count": null,
   "metadata": {},
   "outputs": [],
   "source": [
    "fig, ax = plt.subplots(1, 2, figsize = (12, 4))\n",
    "\n",
    "ax[0].plot(x, y, x, y2)\n",
    "\n",
    "ax[1].plot(x, y**2, 'k')\n",
    "\n",
    "ax[1].set_ylim([2000, 5000])\n",
    "ax[1].set_xlim([-5, 5])"
   ]
  },
  {
   "cell_type": "code",
   "execution_count": null,
   "metadata": {},
   "outputs": [],
   "source": []
  },
  {
   "cell_type": "code",
   "execution_count": null,
   "metadata": {},
   "outputs": [],
   "source": [
    "fig, ax = plt.subplots(1, 2, figsize = (12, 4))\n",
    "\n",
    "ax[0].plot(x, y, x, y2)\n",
    "ax[0].set_xticks([1, 4, 9])\n",
    "\n",
    "ax[1].plot(x, y**2, 'k')\n",
    "ax[1].set_xticks([1, 4, 9])\n",
    "ax[1].set_xticklabels([r'$\\alpha$', r'$\\beta$', r'$\\delta$'])\n",
    "plt.show()\n"
   ]
  },
  {
   "cell_type": "code",
   "execution_count": null,
   "metadata": {},
   "outputs": [],
   "source": []
  },
  {
   "cell_type": "code",
   "execution_count": null,
   "metadata": {},
   "outputs": [],
   "source": []
  },
  {
   "cell_type": "code",
   "execution_count": null,
   "metadata": {},
   "outputs": [],
   "source": []
  },
  {
   "cell_type": "code",
   "execution_count": null,
   "metadata": {},
   "outputs": [],
   "source": []
  },
  {
   "cell_type": "code",
   "execution_count": null,
   "metadata": {},
   "outputs": [],
   "source": []
  },
  {
   "cell_type": "code",
   "execution_count": null,
   "metadata": {},
   "outputs": [],
   "source": []
  },
  {
   "cell_type": "code",
   "execution_count": null,
   "metadata": {},
   "outputs": [],
   "source": []
  },
  {
   "cell_type": "markdown",
   "metadata": {},
   "source": [
    "."
   ]
  },
  {
   "cell_type": "markdown",
   "metadata": {},
   "source": [
    "### Real-Time CPU Uses Plot"
   ]
  },
  {
   "cell_type": "code",
   "execution_count": 1,
   "metadata": {},
   "outputs": [],
   "source": [
    "import matplotlib.pyplot as plt\n",
    "%matplotlib inline"
   ]
  },
  {
   "cell_type": "code",
   "execution_count": 2,
   "metadata": {},
   "outputs": [],
   "source": [
    "from matplotlib.animation import FuncAnimation"
   ]
  },
  {
   "cell_type": "code",
   "execution_count": 3,
   "metadata": {},
   "outputs": [],
   "source": [
    "from psutil import cpu_percent"
   ]
  },
  {
   "cell_type": "code",
   "execution_count": 9,
   "metadata": {},
   "outputs": [
    {
     "data": {
      "text/plain": [
       "42.3"
      ]
     },
     "execution_count": 9,
     "metadata": {},
     "output_type": "execute_result"
    }
   ],
   "source": [
    "cpu_percent()"
   ]
  },
  {
   "cell_type": "code",
   "execution_count": 10,
   "metadata": {},
   "outputs": [],
   "source": [
    "uses = []"
   ]
  },
  {
   "cell_type": "code",
   "execution_count": 33,
   "metadata": {},
   "outputs": [
    {
     "name": "stdout",
     "output_type": "stream",
     "text": [
      "60.9\n"
     ]
    }
   ],
   "source": [
    "cpu_use = cpu_percent()\n",
    "uses.append(cpu_use)\n",
    "print(cpu_use)"
   ]
  },
  {
   "cell_type": "code",
   "execution_count": 35,
   "metadata": {},
   "outputs": [
    {
     "name": "stdout",
     "output_type": "stream",
     "text": [
      "[42.3, 35.9, 54.4, 89.8, 90.6, 78.0, 80.4, 58.2, 44.3, 51.8, 65.9, 87.0, 90.6, 100.0, 95.8, 87.8, 64.9, 73.6, 75.5, 64.1, 70.3, 88.2, 60.9]\n"
     ]
    }
   ],
   "source": [
    "print(uses)"
   ]
  },
  {
   "cell_type": "code",
   "execution_count": 36,
   "metadata": {},
   "outputs": [
    {
     "data": {
      "text/plain": [
       "[<matplotlib.lines.Line2D at 0x2933c883dc8>]"
      ]
     },
     "execution_count": 36,
     "metadata": {},
     "output_type": "execute_result"
    },
    {
     "data": {
      "image/png": "[encoded data removed]",
      "text/plain": [
       "<Figure size 432x288 with 1 Axes>"
      ]
     },
     "metadata": {
      "needs_background": "light"
     },
     "output_type": "display_data"
    }
   ],
   "source": [
    "plt.plot(uses)"
   ]
  },
  {
   "cell_type": "code",
   "execution_count": 40,
   "metadata": {},
   "outputs": [
    {
     "data": {
      "application/javascript": [
       "/* Put everything inside the global mpl namespace */\n",
       "window.mpl = {};\n",
       "\n",
       "\n",
       "mpl.get_websocket_type = function() {\n",
       "    if (typeof(WebSocket) !== 'undefined') {\n",
       "        return WebSocket;\n",
       "    } else if (typeof(MozWebSocket) !== 'undefined') {\n",
       "        return MozWebSocket;\n",
       "    } else {\n",
       "        alert('Your browser does not have WebSocket support. ' +\n",
       "              'Please try Chrome, Safari or Firefox ≥ 6. ' +\n",
       "              'Firefox 4 and 5 are also supported but you ' +\n",
       "              'have to enable WebSockets in about:config.');\n",
       "    };\n",
       "}\n",
       "\n",
       "mpl.figure = function(figure_id, websocket, ondownload, parent_element) {\n",
       "    this.id = figure_id;\n",
       "\n",
       "    this.ws = websocket;\n",
       "\n",
       "    this.supports_binary = (this.ws.binaryType != undefined);\n",
       "\n",
       "    if (!this.supports_binary) {\n",
       "        var warnings = document.getElementById(\"mpl-warnings\");\n",
       "        if (warnings) {\n",
       "            warnings.style.display = 'block';\n",
       "            warnings.textContent = (\n",
       "                \"This browser does not support binary websocket messages. \" +\n",
       "                    \"Performance may be slow.\");\n",
       "        }\n",
       "    }\n",
       "\n",
       "    this.imageObj = new Image();\n",
       "\n",
       "    this.context = undefined;\n",
       "    this.message = undefined;\n",
       "    this.canvas = undefined;\n",
       "    this.rubberband_canvas = undefined;\n",
       "    this.rubberband_context = undefined;\n",
       "    this.format_dropdown = undefined;\n",
       "\n",
       "    this.image_mode = 'full';\n",
       "\n",
       "    this.root = $('<div/>');\n",
       "    this._root_extra_style(this.root)\n",
       "    this.root.attr('style', 'display: inline-block');\n",
       "\n",
       "    $(parent_element).append(this.root);\n",
       "\n",
       "    this._init_header(this);\n",
       "    this._init_canvas(this);\n",
       "    this._init_toolbar(this);\n",
       "\n",
       "    var fig = this;\n",
       "\n",
       "    this.waiting = false;\n",
       "\n",
       "    this.ws.onopen =  function () {\n",
       "            fig.send_message(\"supports_binary\", {value: fig.supports_binary});\n",
       "            fig.send_message(\"send_image_mode\", {});\n",
       "            if (mpl.ratio != 1) {\n",
       "                fig.send_message(\"set_dpi_ratio\", {'dpi_ratio': mpl.ratio});\n",
       "            }\n",
       "            fig.send_message(\"refresh\", {});\n",
       "        }\n",
       "\n",
       "    this.imageObj.onload = function() {\n",
       "            if (fig.image_mode == 'full') {\n",
       "                // Full images could contain transparency (where diff images\n",
       "                // almost always do), so we need to clear the canvas so that\n",
       "                // there is no ghosting.\n",
       "                fig.context.clearRect(0, 0, fig.canvas.width, fig.canvas.height);\n",
       "            }\n",
       "            fig.context.drawImage(fig.imageObj, 0, 0);\n",
       "        };\n",
       "\n",
       "    this.imageObj.onunload = function() {\n",
       "        fig.ws.close();\n",
       "    }\n",
       "\n",
       "    this.ws.onmessage = this._make_on_message_function(this);\n",
       "\n",
       "    this.ondownload = ondownload;\n",
       "}\n",
       "\n",
       "mpl.figure.prototype._init_header = function() {\n",
       "    var titlebar = $(\n",
       "        '<div class=\"ui-dialog-titlebar ui-widget-header ui-corner-all ' +\n",
       "        'ui-helper-clearfix\"/>');\n",
       "    var titletext = $(\n",
       "        '<div class=\"ui-dialog-title\" style=\"width: 100%; ' +\n",
       "        'text-align: center; padding: 3px;\"/>');\n",
       "    titlebar.append(titletext)\n",
       "    this.root.append(titlebar);\n",
       "    this.header = titletext[0];\n",
       "}\n",
       "\n",
       "\n",
       "\n",
       "mpl.figure.prototype._canvas_extra_style = function(canvas_div) {\n",
       "\n",
       "}\n",
       "\n",
       "\n",
       "mpl.figure.prototype._root_extra_style = function(canvas_div) {\n",
       "\n",
       "}\n",
       "\n",
       "mpl.figure.prototype._init_canvas = function() {\n",
       "    var fig = this;\n",
       "\n",
       "    var canvas_div = $('<div/>');\n",
       "\n",
       "    canvas_div.attr('style', 'position: relative; clear: both; outline: 0');\n",
       "\n",
       "    function canvas_keyboard_event(event) {\n",
       "        return fig.key_event(event, event['data']);\n",
       "    }\n",
       "\n",
       "    canvas_div.keydown('key_press', canvas_keyboard_event);\n",
       "    canvas_div.keyup('key_release', canvas_keyboard_event);\n",
       "    this.canvas_div = canvas_div\n",
       "    this._canvas_extra_style(canvas_div)\n",
       "    this.root.append(canvas_div);\n",
       "\n",
       "    var canvas = $('<canvas/>');\n",
       "    canvas.addClass('mpl-canvas');\n",
       "    canvas.attr('style', \"left: 0; top: 0; z-index: 0; outline: 0\")\n",
       "\n",
       "    this.canvas = canvas[0];\n",
       "    this.context = canvas[0].getContext(\"2d\");\n",
       "\n",
       "    var backingStore = this.context.backingStorePixelRatio ||\n",
       "\tthis.context.webkitBackingStorePixelRatio ||\n",
       "\tthis.context.mozBackingStorePixelRatio ||\n",
       "\tthis.context.msBackingStorePixelRatio ||\n",
       "\tthis.context.oBackingStorePixelRatio ||\n",
       "\tthis.context.backingStorePixelRatio || 1;\n",
       "\n",
       "    mpl.ratio = (window.devicePixelRatio || 1) / backingStore;\n",
       "\n",
       "    var rubberband = $('<canvas/>');\n",
       "    rubberband.attr('style', \"position: absolute; left: 0; top: 0; z-index: 1;\")\n",
       "\n",
       "    var pass_mouse_events = true;\n",
       "\n",
       "    canvas_div.resizable({\n",
       "        start: function(event, ui) {\n",
       "            pass_mouse_events = false;\n",
       "        },\n",
       "        resize: function(event, ui) {\n",
       "            fig.request_resize(ui.size.width, ui.size.height);\n",
       "        },\n",
       "        stop: function(event, ui) {\n",
       "            pass_mouse_events = true;\n",
       "            fig.request_resize(ui.size.width, ui.size.height);\n",
       "        },\n",
       "    });\n",
       "\n",
       "    function mouse_event_fn(event) {\n",
       "        if (pass_mouse_events)\n",
       "            return fig.mouse_event(event, event['data']);\n",
       "    }\n",
       "\n",
       "    rubberband.mousedown('button_press', mouse_event_fn);\n",
       "    rubberband.mouseup('button_release', mouse_event_fn);\n",
       "    // Throttle sequential mouse events to 1 every 20ms.\n",
       "    rubberband.mousemove('motion_notify', mouse_event_fn);\n",
       "\n",
       "    rubberband.mouseenter('figure_enter', mouse_event_fn);\n",
       "    rubberband.mouseleave('figure_leave', mouse_event_fn);\n",
       "\n",
       "    canvas_div.on(\"wheel\", function (event) {\n",
       "        event = event.originalEvent;\n",
       "        event['data'] = 'scroll'\n",
       "        if (event.deltaY < 0) {\n",
       "            event.step = 1;\n",
       "        } else {\n",
       "            event.step = -1;\n",
       "        }\n",
       "        mouse_event_fn(event);\n",
       "    });\n",
       "\n",
       "    canvas_div.append(canvas);\n",
       "    canvas_div.append(rubberband);\n",
       "\n",
       "    this.rubberband = rubberband;\n",
       "    this.rubberband_canvas = rubberband[0];\n",
       "    this.rubberband_context = rubberband[0].getContext(\"2d\");\n",
       "    this.rubberband_context.strokeStyle = \"#000000\";\n",
       "\n",
       "    this._resize_canvas = function(width, height) {\n",
       "        // Keep the size of the canvas, canvas container, and rubber band\n",
       "        // canvas in synch.\n",
       "        canvas_div.css('width', width)\n",
       "        canvas_div.css('height', height)\n",
       "\n",
       "        canvas.attr('width', width * mpl.ratio);\n",
       "        canvas.attr('height', height * mpl.ratio);\n",
       "        canvas.attr('style', 'width: ' + width + 'px; height: ' + height + 'px;');\n",
       "\n",
       "        rubberband.attr('width', width);\n",
       "        rubberband.attr('height', height);\n",
       "    }\n",
       "\n",
       "    // Set the figure to an initial 600x600px, this will subsequently be updated\n",
       "    // upon first draw.\n",
       "    this._resize_canvas(600, 600);\n",
       "\n",
       "    // Disable right mouse context menu.\n",
       "    $(this.rubberband_canvas).bind(\"contextmenu\",function(e){\n",
       "        return false;\n",
       "    });\n",
       "\n",
       "    function set_focus () {\n",
       "        canvas.focus();\n",
       "        canvas_div.focus();\n",
       "    }\n",
       "\n",
       "    window.setTimeout(set_focus, 100);\n",
       "}\n",
       "\n",
       "mpl.figure.prototype._init_toolbar = function() {\n",
       "    var fig = this;\n",
       "\n",
       "    var nav_element = $('<div/>');\n",
       "    nav_element.attr('style', 'width: 100%');\n",
       "    this.root.append(nav_element);\n",
       "\n",
       "    // Define a callback function for later on.\n",
       "    function toolbar_event(event) {\n",
       "        return fig.toolbar_button_onclick(event['data']);\n",
       "    }\n",
       "    function toolbar_mouse_event(event) {\n",
       "        return fig.toolbar_button_onmouseover(event['data']);\n",
       "    }\n",
       "\n",
       "    for(var toolbar_ind in mpl.toolbar_items) {\n",
       "        var name = mpl.toolbar_items[toolbar_ind][0];\n",
       "        var tooltip = mpl.toolbar_items[toolbar_ind][1];\n",
       "        var image = mpl.toolbar_items[toolbar_ind][2];\n",
       "        var method_name = mpl.toolbar_items[toolbar_ind][3];\n",
       "\n",
       "        if (!name) {\n",
       "            // put a spacer in here.\n",
       "            continue;\n",
       "        }\n",
       "        var button = $('<button/>');\n",
       "        button.addClass('ui-button ui-widget ui-state-default ui-corner-all ' +\n",
       "                        'ui-button-icon-only');\n",
       "        button.attr('role', 'button');\n",
       "        button.attr('aria-disabled', 'false');\n",
       "        button.click(method_name, toolbar_event);\n",
       "        button.mouseover(tooltip, toolbar_mouse_event);\n",
       "\n",
       "        var icon_img = $('<span/>');\n",
       "        icon_img.addClass('ui-button-icon-primary ui-icon');\n",
       "        icon_img.addClass(image);\n",
       "        icon_img.addClass('ui-corner-all');\n",
       "\n",
       "        var tooltip_span = $('<span/>');\n",
       "        tooltip_span.addClass('ui-button-text');\n",
       "        tooltip_span.html(tooltip);\n",
       "\n",
       "        button.append(icon_img);\n",
       "        button.append(tooltip_span);\n",
       "\n",
       "        nav_element.append(button);\n",
       "    }\n",
       "\n",
       "    var fmt_picker_span = $('<span/>');\n",
       "\n",
       "    var fmt_picker = $('<select/>');\n",
       "    fmt_picker.addClass('mpl-toolbar-option ui-widget ui-widget-content');\n",
       "    fmt_picker_span.append(fmt_picker);\n",
       "    nav_element.append(fmt_picker_span);\n",
       "    this.format_dropdown = fmt_picker[0];\n",
       "\n",
       "    for (var ind in mpl.extensions) {\n",
       "        var fmt = mpl.extensions[ind];\n",
       "        var option = $(\n",
       "            '<option/>', {selected: fmt === mpl.default_extension}).html(fmt);\n",
       "        fmt_picker.append(option);\n",
       "    }\n",
       "\n",
       "    // Add hover states to the ui-buttons\n",
       "    $( \".ui-button\" ).hover(\n",
       "        function() { $(this).addClass(\"ui-state-hover\");},\n",
       "        function() { $(this).removeClass(\"ui-state-hover\");}\n",
       "    );\n",
       "\n",
       "    var status_bar = $('<span class=\"mpl-message\"/>');\n",
       "    nav_element.append(status_bar);\n",
       "    this.message = status_bar[0];\n",
       "}\n",
       "\n",
       "mpl.figure.prototype.request_resize = function(x_pixels, y_pixels) {\n",
       "    // Request matplotlib to resize the figure. Matplotlib will then trigger a resize in the client,\n",
       "    // which will in turn request a refresh of the image.\n",
       "    this.send_message('resize', {'width': x_pixels, 'height': y_pixels});\n",
       "}\n",
       "\n",
       "mpl.figure.prototype.send_message = function(type, properties) {\n",
       "    properties['type'] = type;\n",
       "    properties['figure_id'] = this.id;\n",
       "    this.ws.send(JSON.stringify(properties));\n",
       "}\n",
       "\n",
       "mpl.figure.prototype.send_draw_message = function() {\n",
       "    if (!this.waiting) {\n",
       "        this.waiting = true;\n",
       "        this.ws.send(JSON.stringify({type: \"draw\", figure_id: this.id}));\n",
       "    }\n",
       "}\n",
       "\n",
       "\n",
       "mpl.figure.prototype.handle_save = function(fig, msg) {\n",
       "    var format_dropdown = fig.format_dropdown;\n",
       "    var format = format_dropdown.options[format_dropdown.selectedIndex].value;\n",
       "    fig.ondownload(fig, format);\n",
       "}\n",
       "\n",
       "\n",
       "mpl.figure.prototype.handle_resize = function(fig, msg) {\n",
       "    var size = msg['size'];\n",
       "    if (size[0] != fig.canvas.width || size[1] != fig.canvas.height) {\n",
       "        fig._resize_canvas(size[0], size[1]);\n",
       "        fig.send_message(\"refresh\", {});\n",
       "    };\n",
       "}\n",
       "\n",
       "mpl.figure.prototype.handle_rubberband = function(fig, msg) {\n",
       "    var x0 = msg['x0'] / mpl.ratio;\n",
       "    var y0 = (fig.canvas.height - msg['y0']) / mpl.ratio;\n",
       "    var x1 = msg['x1'] / mpl.ratio;\n",
       "    var y1 = (fig.canvas.height - msg['y1']) / mpl.ratio;\n",
       "    x0 = Math.floor(x0) + 0.5;\n",
       "    y0 = Math.floor(y0) + 0.5;\n",
       "    x1 = Math.floor(x1) + 0.5;\n",
       "    y1 = Math.floor(y1) + 0.5;\n",
       "    var min_x = Math.min(x0, x1);\n",
       "    var min_y = Math.min(y0, y1);\n",
       "    var width = Math.abs(x1 - x0);\n",
       "    var height = Math.abs(y1 - y0);\n",
       "\n",
       "    fig.rubberband_context.clearRect(\n",
       "        0, 0, fig.canvas.width / mpl.ratio, fig.canvas.height / mpl.ratio);\n",
       "\n",
       "    fig.rubberband_context.strokeRect(min_x, min_y, width, height);\n",
       "}\n",
       "\n",
       "mpl.figure.prototype.handle_figure_label = function(fig, msg) {\n",
       "    // Updates the figure title.\n",
       "    fig.header.textContent = msg['label'];\n",
       "}\n",
       "\n",
       "mpl.figure.prototype.handle_cursor = function(fig, msg) {\n",
       "    var cursor = msg['cursor'];\n",
       "    switch(cursor)\n",
       "    {\n",
       "    case 0:\n",
       "        cursor = 'pointer';\n",
       "        break;\n",
       "    case 1:\n",
       "        cursor = 'default';\n",
       "        break;\n",
       "    case 2:\n",
       "        cursor = 'crosshair';\n",
       "        break;\n",
       "    case 3:\n",
       "        cursor = 'move';\n",
       "        break;\n",
       "    }\n",
       "    fig.rubberband_canvas.style.cursor = cursor;\n",
       "}\n",
       "\n",
       "mpl.figure.prototype.handle_message = function(fig, msg) {\n",
       "    fig.message.textContent = msg['message'];\n",
       "}\n",
       "\n",
       "mpl.figure.prototype.handle_draw = function(fig, msg) {\n",
       "    // Request the server to send over a new figure.\n",
       "    fig.send_draw_message();\n",
       "}\n",
       "\n",
       "mpl.figure.prototype.handle_image_mode = function(fig, msg) {\n",
       "    fig.image_mode = msg['mode'];\n",
       "}\n",
       "\n",
       "mpl.figure.prototype.updated_canvas_event = function() {\n",
       "    // Called whenever the canvas gets updated.\n",
       "    this.send_message(\"ack\", {});\n",
       "}\n",
       "\n",
       "// A function to construct a web socket function for onmessage handling.\n",
       "// Called in the figure constructor.\n",
       "mpl.figure.prototype._make_on_message_function = function(fig) {\n",
       "    return function socket_on_message(evt) {\n",
       "        if (evt.data instanceof Blob) {\n",
       "            /* FIXME: We get \"Resource interpreted as Image but\n",
       "             * transferred with MIME type text/plain:\" errors on\n",
       "             * Chrome.  But how to set the MIME type?  It doesn't seem\n",
       "             * to be part of the websocket stream */\n",
       "            evt.data.type = \"image/png\";\n",
       "\n",
       "            /* Free the memory for the previous frames */\n",
       "            if (fig.imageObj.src) {\n",
       "                (window.URL || window.webkitURL).revokeObjectURL(\n",
       "                    fig.imageObj.src);\n",
       "            }\n",
       "\n",
       "            fig.imageObj.src = (window.URL || window.webkitURL).createObjectURL(\n",
       "                evt.data);\n",
       "            fig.updated_canvas_event();\n",
       "            fig.waiting = false;\n",
       "            return;\n",
       "        }\n",
       "        else if (typeof evt.data === 'string' && evt.data.slice(0, 21) == \"data:image/png;base64\") {\n",
       "            fig.imageObj.src = evt.data;\n",
       "            fig.updated_canvas_event();\n",
       "            fig.waiting = false;\n",
       "            return;\n",
       "        }\n",
       "\n",
       "        var msg = JSON.parse(evt.data);\n",
       "        var msg_type = msg['type'];\n",
       "\n",
       "        // Call the  \"handle_{type}\" callback, which takes\n",
       "        // the figure and JSON message as its only arguments.\n",
       "        try {\n",
       "            var callback = fig[\"handle_\" + msg_type];\n",
       "        } catch (e) {\n",
       "            console.log(\"No handler for the '\" + msg_type + \"' message type: \", msg);\n",
       "            return;\n",
       "        }\n",
       "\n",
       "        if (callback) {\n",
       "            try {\n",
       "                // console.log(\"Handling '\" + msg_type + \"' message: \", msg);\n",
       "                callback(fig, msg);\n",
       "            } catch (e) {\n",
       "                console.log(\"Exception inside the 'handler_\" + msg_type + \"' callback:\", e, e.stack, msg);\n",
       "            }\n",
       "        }\n",
       "    };\n",
       "}\n",
       "\n",
       "// from http://stackoverflow.com/questions/1114465/getting-mouse-location-in-canvas\n",
       "mpl.findpos = function(e) {\n",
       "    //this section is from http://www.quirksmode.org/js/events_properties.html\n",
       "    var targ;\n",
       "    if (!e)\n",
       "        e = window.event;\n",
       "    if (e.target)\n",
       "        targ = e.target;\n",
       "    else if (e.srcElement)\n",
       "        targ = e.srcElement;\n",
       "    if (targ.nodeType == 3) // defeat Safari bug\n",
       "        targ = targ.parentNode;\n",
       "\n",
       "    // jQuery normalizes the pageX and pageY\n",
       "    // pageX,Y are the mouse positions relative to the document\n",
       "    // offset() returns the position of the element relative to the document\n",
       "    var x = e.pageX - $(targ).offset().left;\n",
       "    var y = e.pageY - $(targ).offset().top;\n",
       "\n",
       "    return {\"x\": x, \"y\": y};\n",
       "};\n",
       "\n",
       "/*\n",
       " * return a copy of an object with only non-object keys\n",
       " * we need this to avoid circular references\n",
       " * http://stackoverflow.com/a/24161582/3208463\n",
       " */\n",
       "function simpleKeys (original) {\n",
       "  return Object.keys(original).reduce(function (obj, key) {\n",
       "    if (typeof original[key] !== 'object')\n",
       "        obj[key] = original[key]\n",
       "    return obj;\n",
       "  }, {});\n",
       "}\n",
       "\n",
       "mpl.figure.prototype.mouse_event = function(event, name) {\n",
       "    var canvas_pos = mpl.findpos(event)\n",
       "\n",
       "    if (name === 'button_press')\n",
       "    {\n",
       "        this.canvas.focus();\n",
       "        this.canvas_div.focus();\n",
       "    }\n",
       "\n",
       "    var x = canvas_pos.x * mpl.ratio;\n",
       "    var y = canvas_pos.y * mpl.ratio;\n",
       "\n",
       "    this.send_message(name, {x: x, y: y, button: event.button,\n",
       "                             step: event.step,\n",
       "                             guiEvent: simpleKeys(event)});\n",
       "\n",
       "    /* This prevents the web browser from automatically changing to\n",
       "     * the text insertion cursor when the button is pressed.  We want\n",
       "     * to control all of the cursor setting manually through the\n",
       "     * 'cursor' event from matplotlib */\n",
       "    event.preventDefault();\n",
       "    return false;\n",
       "}\n",
       "\n",
       "mpl.figure.prototype._key_event_extra = function(event, name) {\n",
       "    // Handle any extra behaviour associated with a key event\n",
       "}\n",
       "\n",
       "mpl.figure.prototype.key_event = function(event, name) {\n",
       "\n",
       "    // Prevent repeat events\n",
       "    if (name == 'key_press')\n",
       "    {\n",
       "        if (event.which === this._key)\n",
       "            return;\n",
       "        else\n",
       "            this._key = event.which;\n",
       "    }\n",
       "    if (name == 'key_release')\n",
       "        this._key = null;\n",
       "\n",
       "    var value = '';\n",
       "    if (event.ctrlKey && event.which != 17)\n",
       "        value += \"ctrl+\";\n",
       "    if (event.altKey && event.which != 18)\n",
       "        value += \"alt+\";\n",
       "    if (event.shiftKey && event.which != 16)\n",
       "        value += \"shift+\";\n",
       "\n",
       "    value += 'k';\n",
       "    value += event.which.toString();\n",
       "\n",
       "    this._key_event_extra(event, name);\n",
       "\n",
       "    this.send_message(name, {key: value,\n",
       "                             guiEvent: simpleKeys(event)});\n",
       "    return false;\n",
       "}\n",
       "\n",
       "mpl.figure.prototype.toolbar_button_onclick = function(name) {\n",
       "    if (name == 'download') {\n",
       "        this.handle_save(this, null);\n",
       "    } else {\n",
       "        this.send_message(\"toolbar_button\", {name: name});\n",
       "    }\n",
       "};\n",
       "\n",
       "mpl.figure.prototype.toolbar_button_onmouseover = function(tooltip) {\n",
       "    this.message.textContent = tooltip;\n",
       "};\n",
       "mpl.toolbar_items = [[\"Home\", \"Reset original view\", \"fa fa-home icon-home\", \"home\"], [\"Back\", \"Back to previous view\", \"fa fa-arrow-left icon-arrow-left\", \"back\"], [\"Forward\", \"Forward to next view\", \"fa fa-arrow-right icon-arrow-right\", \"forward\"], [\"\", \"\", \"\", \"\"], [\"Pan\", \"Pan axes with left mouse, zoom with right\", \"fa fa-arrows icon-move\", \"pan\"], [\"Zoom\", \"Zoom to rectangle\", \"fa fa-square-o icon-check-empty\", \"zoom\"], [\"\", \"\", \"\", \"\"], [\"Download\", \"Download plot\", \"fa fa-floppy-o icon-save\", \"download\"]];\n",
       "\n",
       "mpl.extensions = [\"eps\", \"jpeg\", \"pdf\", \"png\", \"ps\", \"raw\", \"svg\", \"tif\"];\n",
       "\n",
       "mpl.default_extension = \"png\";var comm_websocket_adapter = function(comm) {\n",
       "    // Create a \"websocket\"-like object which calls the given IPython comm\n",
       "    // object with the appropriate methods. Currently this is a non binary\n",
       "    // socket, so there is still some room for performance tuning.\n",
       "    var ws = {};\n",
       "\n",
       "    ws.close = function() {\n",
       "        comm.close()\n",
       "    };\n",
       "    ws.send = function(m) {\n",
       "        //console.log('sending', m);\n",
       "        comm.send(m);\n",
       "    };\n",
       "    // Register the callback with on_msg.\n",
       "    comm.on_msg(function(msg) {\n",
       "        //console.log('receiving', msg['content']['data'], msg);\n",
       "        // Pass the mpl event to the overridden (by mpl) onmessage function.\n",
       "        ws.onmessage(msg['content']['data'])\n",
       "    });\n",
       "    return ws;\n",
       "}\n",
       "\n",
       "mpl.mpl_figure_comm = function(comm, msg) {\n",
       "    // This is the function which gets called when the mpl process\n",
       "    // starts-up an IPython Comm through the \"matplotlib\" channel.\n",
       "\n",
       "    var id = msg.content.data.id;\n",
       "    // Get hold of the div created by the display call when the Comm\n",
       "    // socket was opened in Python.\n",
       "    var element = $(\"#\" + id);\n",
       "    var ws_proxy = comm_websocket_adapter(comm)\n",
       "\n",
       "    function ondownload(figure, format) {\n",
       "        window.open(figure.imageObj.src);\n",
       "    }\n",
       "\n",
       "    var fig = new mpl.figure(id, ws_proxy,\n",
       "                           ondownload,\n",
       "                           element.get(0));\n",
       "\n",
       "    // Call onopen now - mpl needs it, as it is assuming we've passed it a real\n",
       "    // web socket which is closed, not our websocket->open comm proxy.\n",
       "    ws_proxy.onopen();\n",
       "\n",
       "    fig.parent_element = element.get(0);\n",
       "    fig.cell_info = mpl.find_output_cell(\"<div id='\" + id + \"'></div>\");\n",
       "    if (!fig.cell_info) {\n",
       "        console.error(\"Failed to find cell for figure\", id, fig);\n",
       "        return;\n",
       "    }\n",
       "\n",
       "    var output_index = fig.cell_info[2]\n",
       "    var cell = fig.cell_info[0];\n",
       "\n",
       "};\n",
       "\n",
       "mpl.figure.prototype.handle_close = function(fig, msg) {\n",
       "    var width = fig.canvas.width/mpl.ratio\n",
       "    fig.root.unbind('remove')\n",
       "\n",
       "    // Update the output cell to use the data from the current canvas.\n",
       "    fig.push_to_output();\n",
       "    var dataURL = fig.canvas.toDataURL();\n",
       "    // Re-enable the keyboard manager in IPython - without this line, in FF,\n",
       "    // the notebook keyboard shortcuts fail.\n",
       "    IPython.keyboard_manager.enable()\n",
       "    $(fig.parent_element).html('<img src=\"' + dataURL + '\" width=\"' + width + '\">');\n",
       "    fig.close_ws(fig, msg);\n",
       "}\n",
       "\n",
       "mpl.figure.prototype.close_ws = function(fig, msg){\n",
       "    fig.send_message('closing', msg);\n",
       "    // fig.ws.close()\n",
       "}\n",
       "\n",
       "mpl.figure.prototype.push_to_output = function(remove_interactive) {\n",
       "    // Turn the data on the canvas into data in the output cell.\n",
       "    var width = this.canvas.width/mpl.ratio\n",
       "    var dataURL = this.canvas.toDataURL();\n",
       "    this.cell_info[1]['text/html'] = '<img src=\"' + dataURL + '\" width=\"' + width + '\">';\n",
       "}\n",
       "\n",
       "mpl.figure.prototype.updated_canvas_event = function() {\n",
       "    // Tell IPython that the notebook contents must change.\n",
       "    IPython.notebook.set_dirty(true);\n",
       "    this.send_message(\"ack\", {});\n",
       "    var fig = this;\n",
       "    // Wait a second, then push the new image to the DOM so\n",
       "    // that it is saved nicely (might be nice to debounce this).\n",
       "    setTimeout(function () { fig.push_to_output() }, 1000);\n",
       "}\n",
       "\n",
       "mpl.figure.prototype._init_toolbar = function() {\n",
       "    var fig = this;\n",
       "\n",
       "    var nav_element = $('<div/>');\n",
       "    nav_element.attr('style', 'width: 100%');\n",
       "    this.root.append(nav_element);\n",
       "\n",
       "    // Define a callback function for later on.\n",
       "    function toolbar_event(event) {\n",
       "        return fig.toolbar_button_onclick(event['data']);\n",
       "    }\n",
       "    function toolbar_mouse_event(event) {\n",
       "        return fig.toolbar_button_onmouseover(event['data']);\n",
       "    }\n",
       "\n",
       "    for(var toolbar_ind in mpl.toolbar_items){\n",
       "        var name = mpl.toolbar_items[toolbar_ind][0];\n",
       "        var tooltip = mpl.toolbar_items[toolbar_ind][1];\n",
       "        var image = mpl.toolbar_items[toolbar_ind][2];\n",
       "        var method_name = mpl.toolbar_items[toolbar_ind][3];\n",
       "\n",
       "        if (!name) { continue; };\n",
       "\n",
       "        var button = $('<button class=\"btn btn-default\" href=\"#\" title=\"' + name + '\"><i class=\"fa ' + image + ' fa-lg\"></i></button>');\n",
       "        button.click(method_name, toolbar_event);\n",
       "        button.mouseover(tooltip, toolbar_mouse_event);\n",
       "        nav_element.append(button);\n",
       "    }\n",
       "\n",
       "    // Add the status bar.\n",
       "    var status_bar = $('<span class=\"mpl-message\" style=\"text-align:right; float: right;\"/>');\n",
       "    nav_element.append(status_bar);\n",
       "    this.message = status_bar[0];\n",
       "\n",
       "    // Add the close button to the window.\n",
       "    var buttongrp = $('<div class=\"btn-group inline pull-right\"></div>');\n",
       "    var button = $('<button class=\"btn btn-mini btn-primary\" href=\"#\" title=\"Stop Interaction\"><i class=\"fa fa-power-off icon-remove icon-large\"></i></button>');\n",
       "    button.click(function (evt) { fig.handle_close(fig, {}); } );\n",
       "    button.mouseover('Stop Interaction', toolbar_mouse_event);\n",
       "    buttongrp.append(button);\n",
       "    var titlebar = this.root.find($('.ui-dialog-titlebar'));\n",
       "    titlebar.prepend(buttongrp);\n",
       "}\n",
       "\n",
       "mpl.figure.prototype._root_extra_style = function(el){\n",
       "    var fig = this\n",
       "    el.on(\"remove\", function(){\n",
       "\tfig.close_ws(fig, {});\n",
       "    });\n",
       "}\n",
       "\n",
       "mpl.figure.prototype._canvas_extra_style = function(el){\n",
       "    // this is important to make the div 'focusable\n",
       "    el.attr('tabindex', 0)\n",
       "    // reach out to IPython and tell the keyboard manager to turn it's self\n",
       "    // off when our div gets focus\n",
       "\n",
       "    // location in version 3\n",
       "    if (IPython.notebook.keyboard_manager) {\n",
       "        IPython.notebook.keyboard_manager.register_events(el);\n",
       "    }\n",
       "    else {\n",
       "        // location in version 2\n",
       "        IPython.keyboard_manager.register_events(el);\n",
       "    }\n",
       "\n",
       "}\n",
       "\n",
       "mpl.figure.prototype._key_event_extra = function(event, name) {\n",
       "    var manager = IPython.notebook.keyboard_manager;\n",
       "    if (!manager)\n",
       "        manager = IPython.keyboard_manager;\n",
       "\n",
       "    // Check for shift+enter\n",
       "    if (event.shiftKey && event.which == 13) {\n",
       "        this.canvas_div.blur();\n",
       "        event.shiftKey = false;\n",
       "        // Send a \"J\" for go to next cell\n",
       "        event.which = 74;\n",
       "        event.keyCode = 74;\n",
       "        manager.command_mode();\n",
       "        manager.handle_keydown(event);\n",
       "    }\n",
       "}\n",
       "\n",
       "mpl.figure.prototype.handle_save = function(fig, msg) {\n",
       "    fig.ondownload(fig, null);\n",
       "}\n",
       "\n",
       "\n",
       "mpl.find_output_cell = function(html_output) {\n",
       "    // Return the cell and output element which can be found *uniquely* in the notebook.\n",
       "    // Note - this is a bit hacky, but it is done because the \"notebook_saving.Notebook\"\n",
       "    // IPython event is triggered only after the cells have been serialised, which for\n",
       "    // our purposes (turning an active figure into a static one), is too late.\n",
       "    var cells = IPython.notebook.get_cells();\n",
       "    var ncells = cells.length;\n",
       "    for (var i=0; i<ncells; i++) {\n",
       "        var cell = cells[i];\n",
       "        if (cell.cell_type === 'code'){\n",
       "            for (var j=0; j<cell.output_area.outputs.length; j++) {\n",
       "                var data = cell.output_area.outputs[j];\n",
       "                if (data.data) {\n",
       "                    // IPython >= 3 moved mimebundle to data attribute of output\n",
       "                    data = data.data;\n",
       "                }\n",
       "                if (data['text/html'] == html_output) {\n",
       "                    return [cell, data, j];\n",
       "                }\n",
       "            }\n",
       "        }\n",
       "    }\n",
       "}\n",
       "\n",
       "// Register the function which deals with the matplotlib target/channel.\n",
       "// The kernel may be null if the page has been refreshed.\n",
       "if (IPython.notebook.kernel != null) {\n",
       "    IPython.notebook.kernel.comm_manager.register_target('matplotlib', mpl.mpl_figure_comm);\n",
       "}\n"
      ],
      "text/plain": [
       "<IPython.core.display.Javascript object>"
      ]
     },
     "metadata": {},
     "output_type": "display_data"
    },
    {
     "data": {
      "text/html": [
       "<img src=\"data:image/png;base64,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\" width=\"576\">"
      ],
      "text/plain": [
       "<IPython.core.display.HTML object>"
      ]
     },
     "metadata": {},
     "output_type": "display_data"
    }
   ],
   "source": [
    "%matplotlib notebook\n",
    "\n",
    "frame_len = 200\n",
    "\n",
    "y = []\n",
    "\n",
    "fig = plt.figure(figsize=(8,4))\n",
    "\n",
    "def animate(i):\n",
    "    y.append(cpu_percent())\n",
    "    \n",
    "    if len(y) <= frame_len:\n",
    "        plt.cla()\n",
    "        plt.plot(y, 'r', label = 'Real-Time CPU Uses')\n",
    "        \n",
    "    else:\n",
    "        plt.cla()\n",
    "        plt.plot(y[-frame_len:], 'r', label = 'Real-Time CPU Uses')\n",
    "        \n",
    "    \n",
    "    plt.ylim(0, 100)\n",
    "    plt.xlabel('Time (s)')\n",
    "    plt.ylabel('CPU Uses (%)')\n",
    "    plt.legend(loc = 'upper right')\n",
    "    plt.tight_layout()\n",
    "    \n",
    "ani = FuncAnimation(plt.gcf(), animate, interval = 1000)"
   ]
  },
  {
   "cell_type": "code",
   "execution_count": null,
   "metadata": {},
   "outputs": [],
   "source": []
  },
  {
   "cell_type": "code",
   "execution_count": null,
   "metadata": {},
   "outputs": [],
   "source": []
  },
  {
   "cell_type": "code",
   "execution_count": null,
   "metadata": {},
   "outputs": [],
   "source": []
  },
  {
   "cell_type": "code",
   "execution_count": null,
   "metadata": {},
   "outputs": [],
   "source": []
  },
  {
   "cell_type": "code",
   "execution_count": null,
   "metadata": {},
   "outputs": [],
   "source": []
  },
  {
   "cell_type": "code",
   "execution_count": null,
   "metadata": {},
   "outputs": [],
   "source": []
  },
  {
   "cell_type": "code",
   "execution_count": null,
   "metadata": {},
   "outputs": [],
   "source": []
  },
  {
   "cell_type": "code",
   "execution_count": null,
   "metadata": {},
   "outputs": [],
   "source": []
  },
  {
   "cell_type": "code",
   "execution_count": null,
   "metadata": {},
   "outputs": [],
   "source": []
  },
  {
   "cell_type": "code",
   "execution_count": null,
   "metadata": {},
   "outputs": [],
   "source": []
  },
  {
   "cell_type": "code",
   "execution_count": null,
   "metadata": {},
   "outputs": [],
   "source": []
  },
  {
   "cell_type": "code",
   "execution_count": null,
   "metadata": {},
   "outputs": [],
   "source": []
  },
  {
   "cell_type": "code",
   "execution_count": null,
   "metadata": {},
   "outputs": [],
   "source": []
  },
  {
   "cell_type": "code",
   "execution_count": null,
   "metadata": {},
   "outputs": [],
   "source": []
  },
  {
   "cell_type": "code",
   "execution_count": null,
   "metadata": {},
   "outputs": [],
   "source": []
  },
  {
   "cell_type": "code",
   "execution_count": null,
   "metadata": {},
   "outputs": [],
   "source": []
  },
  {
   "cell_type": "code",
   "execution_count": null,
   "metadata": {},
   "outputs": [],
   "source": []
  },
  {
   "cell_type": "code",
   "execution_count": null,
   "metadata": {},
   "outputs": [],
   "source": []
  },
  {
   "cell_type": "code",
   "execution_count": null,
   "metadata": {},
   "outputs": [],
   "source": []
  },
  {
   "cell_type": "code",
   "execution_count": null,
   "metadata": {},
   "outputs": [],
   "source": []
  },
  {
   "cell_type": "code",
   "execution_count": null,
   "metadata": {},
   "outputs": [],
   "source": []
  },
  {
   "cell_type": "code",
   "execution_count": null,
   "metadata": {},
   "outputs": [],
   "source": []
  },
  {
   "cell_type": "code",
   "execution_count": null,
   "metadata": {},
   "outputs": [],
   "source": []
  },
  {
   "cell_type": "code",
   "execution_count": null,
   "metadata": {},
   "outputs": [],
   "source": []
  },
  {
   "cell_type": "code",
   "execution_count": null,
   "metadata": {},
   "outputs": [],
   "source": []
  },
  {
   "cell_type": "code",
   "execution_count": null,
   "metadata": {},
   "outputs": [],
   "source": []
  },
  {
   "cell_type": "code",
   "execution_count": null,
   "metadata": {},
   "outputs": [],
   "source": []
  },
  {
   "cell_type": "code",
   "execution_count": null,
   "metadata": {},
   "outputs": [],
   "source": []
  },
  {
   "cell_type": "code",
   "execution_count": null,
   "metadata": {},
   "outputs": [],
   "source": []
  },
  {
   "cell_type": "code",
   "execution_count": null,
   "metadata": {},
   "outputs": [],
   "source": []
  },
  {
   "cell_type": "code",
   "execution_count": null,
   "metadata": {},
   "outputs": [],
   "source": []
  },
  {
   "cell_type": "code",
   "execution_count": null,
   "metadata": {},
   "outputs": [],
   "source": []
  },
  {
   "cell_type": "code",
   "execution_count": null,
   "metadata": {},
   "outputs": [],
   "source": []
  },
  {
   "cell_type": "code",
   "execution_count": null,
   "metadata": {},
   "outputs": [],
   "source": []
  },
  {
   "cell_type": "code",
   "execution_count": null,
   "metadata": {},
   "outputs": [],
   "source": []
  },
  {
   "cell_type": "code",
   "execution_count": null,
   "metadata": {},
   "outputs": [],
   "source": []
  },
  {
   "cell_type": "code",
   "execution_count": null,
   "metadata": {},
   "outputs": [],
   "source": []
  },
  {
   "cell_type": "code",
   "execution_count": null,
   "metadata": {},
   "outputs": [],
   "source": []
  },
  {
   "cell_type": "code",
   "execution_count": null,
   "metadata": {},
   "outputs": [],
   "source": []
  },
  {
   "cell_type": "code",
   "execution_count": null,
   "metadata": {},
   "outputs": [],
   "source": []
  },
  {
   "cell_type": "code",
   "execution_count": null,
   "metadata": {},
   "outputs": [],
   "source": []
  },
  {
   "cell_type": "code",
   "execution_count": null,
   "metadata": {},
   "outputs": [],
   "source": []
  }
 ],
 "metadata": {
  "kernelspec": {
   "display_name": "Python 3",
   "language": "python",
   "name": "python3"
  },
  "language_info": {
   "codemirror_mode": {
    "name": "ipython",
    "version": 3
   },
   "file_extension": ".py",
   "mimetype": "text/x-python",
   "name": "python",
   "nbconvert_exporter": "python",
   "pygments_lexer": "ipython3",
   "version": "3.7.4"
  }
 },
 "nbformat": 4,
 "nbformat_minor": 2
}
