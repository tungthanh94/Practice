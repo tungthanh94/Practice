{
 "cells": [
  {
   "cell_type": "markdown",
   "metadata": {},
   "source": [
    "# Linear Regression Project Exercise "
   ]
  },
  {
   "cell_type": "markdown",
   "metadata": {},
   "source": [
    "Now that we have learned about feature engineering, cross validation, and grid search, let's test all your new skills with a project exercise in Machine Learning. This exercise will have a more guided approach, later on the ML projects will begin to be more open-ended. We'll start off with using the final version of the Ames Housing dataset we worked on through the feature engineering section of the course. Your goal will be to create a Linear Regression Model, train it on the data with the optimal parameters using a grid search, and then evaluate the model's capabilities on a test set."
   ]
  },
  {
   "cell_type": "markdown",
   "metadata": {},
   "source": [
    "---\n",
    "---\n",
    "---\n",
    "## Complete the tasks in bold\n",
    "\n",
    "**TASK: Run the cells under the Imports and Data section to make sure you have imported the correct general libraries as well as the correct datasets. Later on you may need to run further imports from scikit-learn.**\n",
    "\n",
    "### Imports"
   ]
  },
  {
   "cell_type": "code",
   "execution_count": 1,
   "metadata": {},
   "outputs": [],
   "source": [
    "import numpy as np\n",
    "import pandas as pd\n",
    "import matplotlib.pyplot as plt\n",
    "import seaborn as sns"
   ]
  },
  {
   "cell_type": "markdown",
   "metadata": {},
   "source": [
    "### Data"
   ]
  },
  {
   "cell_type": "code",
   "execution_count": 2,
   "metadata": {},
   "outputs": [],
   "source": [
    "df = pd.read_csv(\"../DATA/AMES_Final_DF.csv\")"
   ]
  },
  {
   "cell_type": "code",
   "execution_count": 3,
   "metadata": {},
   "outputs": [
    {
     "data": {
      "text/html": [
       "<div>\n",
       "<style scoped>\n",
       "    .dataframe tbody tr th:only-of-type {\n",
       "        vertical-align: middle;\n",
       "    }\n",
       "\n",
       "    .dataframe tbody tr th {\n",
       "        vertical-align: top;\n",
       "    }\n",
       "\n",
       "    .dataframe thead th {\n",
       "        text-align: right;\n",
       "    }\n",
       "</style>\n",
       "<table border=\"1\" class=\"dataframe\">\n",
       "  <thead>\n",
       "    <tr style=\"text-align: right;\">\n",
       "      <th></th>\n",
       "      <th>Lot Frontage</th>\n",
       "      <th>Lot Area</th>\n",
       "      <th>Overall Qual</th>\n",
       "      <th>Overall Cond</th>\n",
       "      <th>Year Built</th>\n",
       "      <th>Year Remod/Add</th>\n",
       "      <th>Mas Vnr Area</th>\n",
       "      <th>BsmtFin SF 1</th>\n",
       "      <th>BsmtFin SF 2</th>\n",
       "      <th>Bsmt Unf SF</th>\n",
       "      <th>...</th>\n",
       "      <th>Sale Type_ConLw</th>\n",
       "      <th>Sale Type_New</th>\n",
       "      <th>Sale Type_Oth</th>\n",
       "      <th>Sale Type_VWD</th>\n",
       "      <th>Sale Type_WD</th>\n",
       "      <th>Sale Condition_AdjLand</th>\n",
       "      <th>Sale Condition_Alloca</th>\n",
       "      <th>Sale Condition_Family</th>\n",
       "      <th>Sale Condition_Normal</th>\n",
       "      <th>Sale Condition_Partial</th>\n",
       "    </tr>\n",
       "  </thead>\n",
       "  <tbody>\n",
       "    <tr>\n",
       "      <th>0</th>\n",
       "      <td>141.0</td>\n",
       "      <td>31770</td>\n",
       "      <td>6</td>\n",
       "      <td>5</td>\n",
       "      <td>1960</td>\n",
       "      <td>1960</td>\n",
       "      <td>112.0</td>\n",
       "      <td>639.0</td>\n",
       "      <td>0.0</td>\n",
       "      <td>441.0</td>\n",
       "      <td>...</td>\n",
       "      <td>0</td>\n",
       "      <td>0</td>\n",
       "      <td>0</td>\n",
       "      <td>0</td>\n",
       "      <td>1</td>\n",
       "      <td>0</td>\n",
       "      <td>0</td>\n",
       "      <td>0</td>\n",
       "      <td>1</td>\n",
       "      <td>0</td>\n",
       "    </tr>\n",
       "    <tr>\n",
       "      <th>1</th>\n",
       "      <td>80.0</td>\n",
       "      <td>11622</td>\n",
       "      <td>5</td>\n",
       "      <td>6</td>\n",
       "      <td>1961</td>\n",
       "      <td>1961</td>\n",
       "      <td>0.0</td>\n",
       "      <td>468.0</td>\n",
       "      <td>144.0</td>\n",
       "      <td>270.0</td>\n",
       "      <td>...</td>\n",
       "      <td>0</td>\n",
       "      <td>0</td>\n",
       "      <td>0</td>\n",
       "      <td>0</td>\n",
       "      <td>1</td>\n",
       "      <td>0</td>\n",
       "      <td>0</td>\n",
       "      <td>0</td>\n",
       "      <td>1</td>\n",
       "      <td>0</td>\n",
       "    </tr>\n",
       "    <tr>\n",
       "      <th>2</th>\n",
       "      <td>81.0</td>\n",
       "      <td>14267</td>\n",
       "      <td>6</td>\n",
       "      <td>6</td>\n",
       "      <td>1958</td>\n",
       "      <td>1958</td>\n",
       "      <td>108.0</td>\n",
       "      <td>923.0</td>\n",
       "      <td>0.0</td>\n",
       "      <td>406.0</td>\n",
       "      <td>...</td>\n",
       "      <td>0</td>\n",
       "      <td>0</td>\n",
       "      <td>0</td>\n",
       "      <td>0</td>\n",
       "      <td>1</td>\n",
       "      <td>0</td>\n",
       "      <td>0</td>\n",
       "      <td>0</td>\n",
       "      <td>1</td>\n",
       "      <td>0</td>\n",
       "    </tr>\n",
       "    <tr>\n",
       "      <th>3</th>\n",
       "      <td>93.0</td>\n",
       "      <td>11160</td>\n",
       "      <td>7</td>\n",
       "      <td>5</td>\n",
       "      <td>1968</td>\n",
       "      <td>1968</td>\n",
       "      <td>0.0</td>\n",
       "      <td>1065.0</td>\n",
       "      <td>0.0</td>\n",
       "      <td>1045.0</td>\n",
       "      <td>...</td>\n",
       "      <td>0</td>\n",
       "      <td>0</td>\n",
       "      <td>0</td>\n",
       "      <td>0</td>\n",
       "      <td>1</td>\n",
       "      <td>0</td>\n",
       "      <td>0</td>\n",
       "      <td>0</td>\n",
       "      <td>1</td>\n",
       "      <td>0</td>\n",
       "    </tr>\n",
       "    <tr>\n",
       "      <th>4</th>\n",
       "      <td>74.0</td>\n",
       "      <td>13830</td>\n",
       "      <td>5</td>\n",
       "      <td>5</td>\n",
       "      <td>1997</td>\n",
       "      <td>1998</td>\n",
       "      <td>0.0</td>\n",
       "      <td>791.0</td>\n",
       "      <td>0.0</td>\n",
       "      <td>137.0</td>\n",
       "      <td>...</td>\n",
       "      <td>0</td>\n",
       "      <td>0</td>\n",
       "      <td>0</td>\n",
       "      <td>0</td>\n",
       "      <td>1</td>\n",
       "      <td>0</td>\n",
       "      <td>0</td>\n",
       "      <td>0</td>\n",
       "      <td>1</td>\n",
       "      <td>0</td>\n",
       "    </tr>\n",
       "  </tbody>\n",
       "</table>\n",
       "<p>5 rows × 274 columns</p>\n",
       "</div>"
      ],
      "text/plain": [
       "   Lot Frontage  Lot Area  Overall Qual  Overall Cond  Year Built  \\\n",
       "0         141.0     31770             6             5        1960   \n",
       "1          80.0     11622             5             6        1961   \n",
       "2          81.0     14267             6             6        1958   \n",
       "3          93.0     11160             7             5        1968   \n",
       "4          74.0     13830             5             5        1997   \n",
       "\n",
       "   Year Remod/Add  Mas Vnr Area  BsmtFin SF 1  BsmtFin SF 2  Bsmt Unf SF  ...  \\\n",
       "0            1960         112.0         639.0           0.0        441.0  ...   \n",
       "1            1961           0.0         468.0         144.0        270.0  ...   \n",
       "2            1958         108.0         923.0           0.0        406.0  ...   \n",
       "3            1968           0.0        1065.0           0.0       1045.0  ...   \n",
       "4            1998           0.0         791.0           0.0        137.0  ...   \n",
       "\n",
       "   Sale Type_ConLw  Sale Type_New  Sale Type_Oth  Sale Type_VWD  \\\n",
       "0                0              0              0              0   \n",
       "1                0              0              0              0   \n",
       "2                0              0              0              0   \n",
       "3                0              0              0              0   \n",
       "4                0              0              0              0   \n",
       "\n",
       "   Sale Type_WD   Sale Condition_AdjLand  Sale Condition_Alloca  \\\n",
       "0              1                       0                      0   \n",
       "1              1                       0                      0   \n",
       "2              1                       0                      0   \n",
       "3              1                       0                      0   \n",
       "4              1                       0                      0   \n",
       "\n",
       "   Sale Condition_Family  Sale Condition_Normal  Sale Condition_Partial  \n",
       "0                      0                      1                       0  \n",
       "1                      0                      1                       0  \n",
       "2                      0                      1                       0  \n",
       "3                      0                      1                       0  \n",
       "4                      0                      1                       0  \n",
       "\n",
       "[5 rows x 274 columns]"
      ]
     },
     "execution_count": 3,
     "metadata": {},
     "output_type": "execute_result"
    }
   ],
   "source": [
    "df.head()"
   ]
  },
  {
   "cell_type": "code",
   "execution_count": 4,
   "metadata": {},
   "outputs": [
    {
     "name": "stdout",
     "output_type": "stream",
     "text": [
      "<class 'pandas.core.frame.DataFrame'>\n",
      "RangeIndex: 2925 entries, 0 to 2924\n",
      "Columns: 274 entries, Lot Frontage to Sale Condition_Partial\n",
      "dtypes: float64(11), int64(263)\n",
      "memory usage: 6.1 MB\n"
     ]
    }
   ],
   "source": [
    "df.info()"
   ]
  },
  {
   "cell_type": "markdown",
   "metadata": {},
   "source": [
    "**TASK: The label we are trying to predict is the SalePrice column. Separate out the data into X features and y labels**"
   ]
  },
  {
   "cell_type": "code",
   "execution_count": 5,
   "metadata": {},
   "outputs": [],
   "source": [
    "X = df.drop('SalePrice', axis = 1)\n",
    "y = df['SalePrice']"
   ]
  },
  {
   "cell_type": "markdown",
   "metadata": {},
   "source": [
    "**TASK: Use scikit-learn to split up X and y into a training set and test set. Since we will later be using a Grid Search strategy, set your test proportion to 10%. To get the same data split as the solutions notebook, you can specify random_state = 101**"
   ]
  },
  {
   "cell_type": "code",
   "execution_count": 6,
   "metadata": {},
   "outputs": [],
   "source": [
    "from sklearn.model_selection import train_test_split, GridSearchCV\n",
    "from sklearn.linear_model import ElasticNetCV, LinearRegression"
   ]
  },
  {
   "cell_type": "code",
   "execution_count": 7,
   "metadata": {},
   "outputs": [],
   "source": [
    "xtrain, xtest, ytrain, ytest = train_test_split(X, y, test_size=0.1, random_state=101)"
   ]
  },
  {
   "cell_type": "markdown",
   "metadata": {},
   "source": [
    "**TASK: The dataset features has a variety of scales and units. For optimal regression performance, scale the X features. Take carefuly note of what to use for .fit() vs what to use for .transform()**"
   ]
  },
  {
   "cell_type": "code",
   "execution_count": 8,
   "metadata": {},
   "outputs": [],
   "source": [
    "from sklearn.preprocessing import StandardScaler"
   ]
  },
  {
   "cell_type": "code",
   "execution_count": 9,
   "metadata": {},
   "outputs": [
    {
     "data": {
      "text/plain": [
       "StandardScaler()"
      ]
     },
     "execution_count": 9,
     "metadata": {},
     "output_type": "execute_result"
    }
   ],
   "source": [
    "scaler = StandardScaler()\n",
    "scaler.fit(xtrain)"
   ]
  },
  {
   "cell_type": "code",
   "execution_count": 10,
   "metadata": {},
   "outputs": [],
   "source": [
    "Xtrain = scaler.transform(xtrain)\n",
    "Xtest = scaler.transform(xtest)"
   ]
  },
  {
   "cell_type": "markdown",
   "metadata": {},
   "source": [
    "**TASK: We will use an Elastic Net model. Create an instance of default ElasticNet model with scikit-learn**"
   ]
  },
  {
   "cell_type": "code",
   "execution_count": 15,
   "metadata": {},
   "outputs": [],
   "source": [
    "from sklearn.metrics import mean_absolute_error, mean_squared_error"
   ]
  },
  {
   "cell_type": "code",
   "execution_count": 11,
   "metadata": {},
   "outputs": [],
   "source": [
    "model = ElasticNetCV(l1_ratio=[0.01, .1, 0.3, .5, .7, .9, .95, .99, 1],\n",
    "                    cv = 10,\n",
    "                    n_jobs= -1)"
   ]
  },
  {
   "cell_type": "code",
   "execution_count": 12,
   "metadata": {},
   "outputs": [
    {
     "data": {
      "text/plain": [
       "ElasticNetCV(cv=10, l1_ratio=[0.01, 0.1, 0.3, 0.5, 0.7, 0.9, 0.95, 0.99, 1],\n",
       "             n_jobs=-1)"
      ]
     },
     "execution_count": 12,
     "metadata": {},
     "output_type": "execute_result"
    }
   ],
   "source": [
    "model.fit(Xtrain, ytrain)"
   ]
  },
  {
   "cell_type": "code",
   "execution_count": 13,
   "metadata": {},
   "outputs": [
    {
     "data": {
      "text/plain": [
       "array([[6.46995654e+06, 6.03390312e+06, 5.62723825e+06, 5.24798122e+06,\n",
       "        4.89428485e+06, 4.56442643e+06, 4.25679937e+06, 3.96990534e+06,\n",
       "        3.70234701e+06, 3.45282121e+06, 3.22011262e+06, 3.00308780e+06,\n",
       "        2.80068974e+06, 2.61193262e+06, 2.43589710e+06, 2.27172579e+06,\n",
       "        2.11861908e+06, 1.97583124e+06, 1.84266683e+06, 1.71847725e+06,\n",
       "        1.60265764e+06, 1.49464388e+06, 1.39390988e+06, 1.29996502e+06,\n",
       "        1.21235173e+06, 1.13064328e+06, 1.05444171e+06, 9.83375865e+05,\n",
       "        9.17099623e+05, 8.55290178e+05, 7.97646482e+05, 7.43887779e+05,\n",
       "        6.93752233e+05, 6.46995654e+05, 6.03390312e+05, 5.62723825e+05,\n",
       "        5.24798122e+05, 4.89428485e+05, 4.56442643e+05, 4.25679937e+05,\n",
       "        3.96990534e+05, 3.70234701e+05, 3.45282121e+05, 3.22011262e+05,\n",
       "        3.00308780e+05, 2.80068974e+05, 2.61193262e+05, 2.43589710e+05,\n",
       "        2.27172579e+05, 2.11861908e+05, 1.97583124e+05, 1.84266683e+05,\n",
       "        1.71847725e+05, 1.60265764e+05, 1.49464388e+05, 1.39390988e+05,\n",
       "        1.29996502e+05, 1.21235173e+05, 1.13064328e+05, 1.05444171e+05,\n",
       "        9.83375865e+04, 9.17099623e+04, 8.55290178e+04, 7.97646482e+04,\n",
       "        7.43887779e+04, 6.93752233e+04, 6.46995654e+04, 6.03390312e+04,\n",
       "        5.62723825e+04, 5.24798122e+04, 4.89428485e+04, 4.56442643e+04,\n",
       "        4.25679937e+04, 3.96990534e+04, 3.70234701e+04, 3.45282121e+04,\n",
       "        3.22011262e+04, 3.00308780e+04, 2.80068974e+04, 2.61193262e+04,\n",
       "        2.43589710e+04, 2.27172579e+04, 2.11861908e+04, 1.97583124e+04,\n",
       "        1.84266683e+04, 1.71847725e+04, 1.60265764e+04, 1.49464388e+04,\n",
       "        1.39390988e+04, 1.29996502e+04, 1.21235173e+04, 1.13064328e+04,\n",
       "        1.05444171e+04, 9.83375865e+03, 9.17099623e+03, 8.55290178e+03,\n",
       "        7.97646482e+03, 7.43887779e+03, 6.93752233e+03, 6.46995654e+03],\n",
       "       [6.46995654e+05, 6.03390312e+05, 5.62723825e+05, 5.24798122e+05,\n",
       "        4.89428485e+05, 4.56442643e+05, 4.25679937e+05, 3.96990534e+05,\n",
       "        3.70234701e+05, 3.45282121e+05, 3.22011262e+05, 3.00308780e+05,\n",
       "        2.80068974e+05, 2.61193262e+05, 2.43589710e+05, 2.27172579e+05,\n",
       "        2.11861908e+05, 1.97583124e+05, 1.84266683e+05, 1.71847725e+05,\n",
       "        1.60265764e+05, 1.49464388e+05, 1.39390988e+05, 1.29996502e+05,\n",
       "        1.21235173e+05, 1.13064328e+05, 1.05444171e+05, 9.83375865e+04,\n",
       "        9.17099623e+04, 8.55290178e+04, 7.97646482e+04, 7.43887779e+04,\n",
       "        6.93752233e+04, 6.46995654e+04, 6.03390312e+04, 5.62723825e+04,\n",
       "        5.24798122e+04, 4.89428485e+04, 4.56442643e+04, 4.25679937e+04,\n",
       "        3.96990534e+04, 3.70234701e+04, 3.45282121e+04, 3.22011262e+04,\n",
       "        3.00308780e+04, 2.80068974e+04, 2.61193262e+04, 2.43589710e+04,\n",
       "        2.27172579e+04, 2.11861908e+04, 1.97583124e+04, 1.84266683e+04,\n",
       "        1.71847725e+04, 1.60265764e+04, 1.49464388e+04, 1.39390988e+04,\n",
       "        1.29996502e+04, 1.21235173e+04, 1.13064328e+04, 1.05444171e+04,\n",
       "        9.83375865e+03, 9.17099623e+03, 8.55290178e+03, 7.97646482e+03,\n",
       "        7.43887779e+03, 6.93752233e+03, 6.46995654e+03, 6.03390312e+03,\n",
       "        5.62723825e+03, 5.24798122e+03, 4.89428485e+03, 4.56442643e+03,\n",
       "        4.25679937e+03, 3.96990534e+03, 3.70234701e+03, 3.45282121e+03,\n",
       "        3.22011262e+03, 3.00308780e+03, 2.80068974e+03, 2.61193262e+03,\n",
       "        2.43589710e+03, 2.27172579e+03, 2.11861908e+03, 1.97583124e+03,\n",
       "        1.84266683e+03, 1.71847725e+03, 1.60265764e+03, 1.49464388e+03,\n",
       "        1.39390988e+03, 1.29996502e+03, 1.21235173e+03, 1.13064328e+03,\n",
       "        1.05444171e+03, 9.83375865e+02, 9.17099623e+02, 8.55290178e+02,\n",
       "        7.97646482e+02, 7.43887779e+02, 6.93752233e+02, 6.46995654e+02],\n",
       "       [2.15665218e+05, 2.01130104e+05, 1.87574608e+05, 1.74932707e+05,\n",
       "        1.63142828e+05, 1.52147548e+05, 1.41893312e+05, 1.32330178e+05,\n",
       "        1.23411567e+05, 1.15094040e+05, 1.07337087e+05, 1.00102927e+05,\n",
       "        9.33563245e+04, 8.70644207e+04, 8.11965702e+04, 7.57241931e+04,\n",
       "        7.06206359e+04, 6.58610414e+04, 6.14222276e+04, 5.72825751e+04,\n",
       "        5.34219212e+04, 4.98214625e+04, 4.64636627e+04, 4.33321673e+04,\n",
       "        4.04117243e+04, 3.76881093e+04, 3.51480569e+04, 3.27791955e+04,\n",
       "        3.05699874e+04, 2.85096726e+04, 2.65882161e+04, 2.47962593e+04,\n",
       "        2.31250744e+04, 2.15665218e+04, 2.01130104e+04, 1.87574608e+04,\n",
       "        1.74932707e+04, 1.63142828e+04, 1.52147548e+04, 1.41893312e+04,\n",
       "        1.32330178e+04, 1.23411567e+04, 1.15094040e+04, 1.07337087e+04,\n",
       "        1.00102927e+04, 9.33563245e+03, 8.70644207e+03, 8.11965702e+03,\n",
       "        7.57241931e+03, 7.06206359e+03, 6.58610414e+03, 6.14222276e+03,\n",
       "        5.72825751e+03, 5.34219212e+03, 4.98214625e+03, 4.64636627e+03,\n",
       "        4.33321673e+03, 4.04117243e+03, 3.76881093e+03, 3.51480569e+03,\n",
       "        3.27791955e+03, 3.05699874e+03, 2.85096726e+03, 2.65882161e+03,\n",
       "        2.47962593e+03, 2.31250744e+03, 2.15665218e+03, 2.01130104e+03,\n",
       "        1.87574608e+03, 1.74932707e+03, 1.63142828e+03, 1.52147548e+03,\n",
       "        1.41893312e+03, 1.32330178e+03, 1.23411567e+03, 1.15094040e+03,\n",
       "        1.07337087e+03, 1.00102927e+03, 9.33563245e+02, 8.70644207e+02,\n",
       "        8.11965702e+02, 7.57241931e+02, 7.06206359e+02, 6.58610414e+02,\n",
       "        6.14222276e+02, 5.72825751e+02, 5.34219212e+02, 4.98214625e+02,\n",
       "        4.64636627e+02, 4.33321673e+02, 4.04117243e+02, 3.76881093e+02,\n",
       "        3.51480569e+02, 3.27791955e+02, 3.05699874e+02, 2.85096726e+02,\n",
       "        2.65882161e+02, 2.47962593e+02, 2.31250744e+02, 2.15665218e+02],\n",
       "       [1.29399131e+05, 1.20678062e+05, 1.12544765e+05, 1.04959624e+05,\n",
       "        9.78856971e+04, 9.12885287e+04, 8.51359874e+04, 7.93981068e+04,\n",
       "        7.40469401e+04, 6.90564242e+04, 6.44022523e+04, 6.00617561e+04,\n",
       "        5.60137947e+04, 5.22386524e+04, 4.87179421e+04, 4.54345158e+04,\n",
       "        4.23723815e+04, 3.95166248e+04, 3.68533366e+04, 3.43695450e+04,\n",
       "        3.20531527e+04, 2.98928775e+04, 2.78781976e+04, 2.59993004e+04,\n",
       "        2.42470346e+04, 2.26128656e+04, 2.10888341e+04, 1.96675173e+04,\n",
       "        1.83419925e+04, 1.71058036e+04, 1.59529296e+04, 1.48777556e+04,\n",
       "        1.38750447e+04, 1.29399131e+04, 1.20678062e+04, 1.12544765e+04,\n",
       "        1.04959624e+04, 9.78856971e+03, 9.12885287e+03, 8.51359874e+03,\n",
       "        7.93981068e+03, 7.40469401e+03, 6.90564242e+03, 6.44022523e+03,\n",
       "        6.00617561e+03, 5.60137947e+03, 5.22386524e+03, 4.87179421e+03,\n",
       "        4.54345158e+03, 4.23723815e+03, 3.95166248e+03, 3.68533366e+03,\n",
       "        3.43695450e+03, 3.20531527e+03, 2.98928775e+03, 2.78781976e+03,\n",
       "        2.59993004e+03, 2.42470346e+03, 2.26128656e+03, 2.10888341e+03,\n",
       "        1.96675173e+03, 1.83419925e+03, 1.71058036e+03, 1.59529296e+03,\n",
       "        1.48777556e+03, 1.38750447e+03, 1.29399131e+03, 1.20678062e+03,\n",
       "        1.12544765e+03, 1.04959624e+03, 9.78856971e+02, 9.12885287e+02,\n",
       "        8.51359874e+02, 7.93981068e+02, 7.40469401e+02, 6.90564242e+02,\n",
       "        6.44022523e+02, 6.00617561e+02, 5.60137947e+02, 5.22386524e+02,\n",
       "        4.87179421e+02, 4.54345158e+02, 4.23723815e+02, 3.95166248e+02,\n",
       "        3.68533366e+02, 3.43695450e+02, 3.20531527e+02, 2.98928775e+02,\n",
       "        2.78781976e+02, 2.59993004e+02, 2.42470346e+02, 2.26128656e+02,\n",
       "        2.10888341e+02, 1.96675173e+02, 1.83419925e+02, 1.71058036e+02,\n",
       "        1.59529296e+02, 1.48777556e+02, 1.38750447e+02, 1.29399131e+02],\n",
       "       [9.24279506e+04, 8.61986160e+04, 8.03891178e+04, 7.49711603e+04,\n",
       "        6.99183550e+04, 6.52060919e+04, 6.08114196e+04, 5.67129334e+04,\n",
       "        5.28906715e+04, 4.93260173e+04, 4.60016088e+04, 4.29012543e+04,\n",
       "        4.00098534e+04, 3.73133232e+04, 3.47985301e+04, 3.24532256e+04,\n",
       "        3.02659868e+04, 2.82261606e+04, 2.63238118e+04, 2.45496750e+04,\n",
       "        2.28951091e+04, 2.13520554e+04, 1.99129983e+04, 1.85709289e+04,\n",
       "        1.73193104e+04, 1.61520469e+04, 1.50634530e+04, 1.40482266e+04,\n",
       "        1.31014232e+04, 1.22184311e+04, 1.13949497e+04, 1.06269683e+04,\n",
       "        9.91074618e+03, 9.24279506e+03, 8.61986160e+03, 8.03891178e+03,\n",
       "        7.49711603e+03, 6.99183550e+03, 6.52060919e+03, 6.08114196e+03,\n",
       "        5.67129334e+03, 5.28906715e+03, 4.93260173e+03, 4.60016088e+03,\n",
       "        4.29012543e+03, 4.00098534e+03, 3.73133232e+03, 3.47985301e+03,\n",
       "        3.24532256e+03, 3.02659868e+03, 2.82261606e+03, 2.63238118e+03,\n",
       "        2.45496750e+03, 2.28951091e+03, 2.13520554e+03, 1.99129983e+03,\n",
       "        1.85709289e+03, 1.73193104e+03, 1.61520469e+03, 1.50634530e+03,\n",
       "        1.40482266e+03, 1.31014232e+03, 1.22184311e+03, 1.13949497e+03,\n",
       "        1.06269683e+03, 9.91074618e+02, 9.24279506e+02, 8.61986160e+02,\n",
       "        8.03891178e+02, 7.49711603e+02, 6.99183550e+02, 6.52060919e+02,\n",
       "        6.08114196e+02, 5.67129334e+02, 5.28906715e+02, 4.93260173e+02,\n",
       "        4.60016088e+02, 4.29012543e+02, 4.00098534e+02, 3.73133232e+02,\n",
       "        3.47985301e+02, 3.24532256e+02, 3.02659868e+02, 2.82261606e+02,\n",
       "        2.63238118e+02, 2.45496750e+02, 2.28951091e+02, 2.13520554e+02,\n",
       "        1.99129983e+02, 1.85709289e+02, 1.73193104e+02, 1.61520469e+02,\n",
       "        1.50634530e+02, 1.40482266e+02, 1.31014232e+02, 1.22184311e+02,\n",
       "        1.13949497e+02, 1.06269683e+02, 9.91074618e+01, 9.24279506e+01],\n",
       "       [7.18884060e+04, 6.70433680e+04, 6.25248694e+04, 5.83109025e+04,\n",
       "        5.43809428e+04, 5.07158493e+04, 4.72977708e+04, 4.41100593e+04,\n",
       "        4.11371890e+04, 3.83646801e+04, 3.57790291e+04, 3.33676423e+04,\n",
       "        3.11187748e+04, 2.90214736e+04, 2.70655234e+04, 2.52413977e+04,\n",
       "        2.35402120e+04, 2.19536805e+04, 2.04740759e+04, 1.90941917e+04,\n",
       "        1.78073071e+04, 1.66071542e+04, 1.54878876e+04, 1.44440558e+04,\n",
       "        1.34705748e+04, 1.25627031e+04, 1.17160190e+04, 1.09263985e+04,\n",
       "        1.01899958e+04, 9.50322420e+03, 8.86273869e+03, 8.26541977e+03,\n",
       "        7.70835814e+03, 7.18884060e+03, 6.70433680e+03, 6.25248694e+03,\n",
       "        5.83109025e+03, 5.43809428e+03, 5.07158493e+03, 4.72977708e+03,\n",
       "        4.41100593e+03, 4.11371890e+03, 3.83646801e+03, 3.57790291e+03,\n",
       "        3.33676423e+03, 3.11187748e+03, 2.90214736e+03, 2.70655234e+03,\n",
       "        2.52413977e+03, 2.35402120e+03, 2.19536805e+03, 2.04740759e+03,\n",
       "        1.90941917e+03, 1.78073071e+03, 1.66071542e+03, 1.54878876e+03,\n",
       "        1.44440558e+03, 1.34705748e+03, 1.25627031e+03, 1.17160190e+03,\n",
       "        1.09263985e+03, 1.01899958e+03, 9.50322420e+02, 8.86273869e+02,\n",
       "        8.26541977e+02, 7.70835814e+02, 7.18884060e+02, 6.70433680e+02,\n",
       "        6.25248694e+02, 5.83109025e+02, 5.43809428e+02, 5.07158493e+02,\n",
       "        4.72977708e+02, 4.41100593e+02, 4.11371890e+02, 3.83646801e+02,\n",
       "        3.57790291e+02, 3.33676423e+02, 3.11187748e+02, 2.90214736e+02,\n",
       "        2.70655234e+02, 2.52413977e+02, 2.35402120e+02, 2.19536805e+02,\n",
       "        2.04740759e+02, 1.90941917e+02, 1.78073071e+02, 1.66071542e+02,\n",
       "        1.54878876e+02, 1.44440558e+02, 1.34705748e+02, 1.25627031e+02,\n",
       "        1.17160190e+02, 1.09263985e+02, 1.01899958e+02, 9.50322420e+01,\n",
       "        8.86273869e+01, 8.26541977e+01, 7.70835814e+01, 7.18884060e+01],\n",
       "       [6.81048057e+04, 6.35147697e+04, 5.92340868e+04, 5.52419076e+04,\n",
       "        5.15187879e+04, 4.80465940e+04, 4.48084144e+04, 4.17884773e+04,\n",
       "        3.89720737e+04, 3.63454864e+04, 3.38959223e+04, 3.16114506e+04,\n",
       "        2.94809446e+04, 2.74940276e+04, 2.56410222e+04, 2.39129031e+04,\n",
       "        2.23012534e+04, 2.07982236e+04, 1.93964929e+04, 1.80892342e+04,\n",
       "        1.68700804e+04, 1.57330934e+04, 1.46727356e+04, 1.36838423e+04,\n",
       "        1.27615971e+04, 1.19015082e+04, 1.10993864e+04, 1.03513249e+04,\n",
       "        9.65368024e+03, 9.00305450e+03, 8.39627876e+03, 7.83039768e+03,\n",
       "        7.30265508e+03, 6.81048057e+03, 6.35147697e+03, 5.92340868e+03,\n",
       "        5.52419076e+03, 5.15187879e+03, 4.80465940e+03, 4.48084144e+03,\n",
       "        4.17884773e+03, 3.89720737e+03, 3.63454864e+03, 3.38959223e+03,\n",
       "        3.16114506e+03, 2.94809446e+03, 2.74940276e+03, 2.56410222e+03,\n",
       "        2.39129031e+03, 2.23012534e+03, 2.07982236e+03, 1.93964929e+03,\n",
       "        1.80892342e+03, 1.68700804e+03, 1.57330934e+03, 1.46727356e+03,\n",
       "        1.36838423e+03, 1.27615971e+03, 1.19015082e+03, 1.10993864e+03,\n",
       "        1.03513249e+03, 9.65368024e+02, 9.00305450e+02, 8.39627876e+02,\n",
       "        7.83039768e+02, 7.30265508e+02, 6.81048057e+02, 6.35147697e+02,\n",
       "        5.92340868e+02, 5.52419076e+02, 5.15187879e+02, 4.80465940e+02,\n",
       "        4.48084144e+02, 4.17884773e+02, 3.89720737e+02, 3.63454864e+02,\n",
       "        3.38959223e+02, 3.16114506e+02, 2.94809446e+02, 2.74940276e+02,\n",
       "        2.56410222e+02, 2.39129031e+02, 2.23012534e+02, 2.07982236e+02,\n",
       "        1.93964929e+02, 1.80892342e+02, 1.68700804e+02, 1.57330934e+02,\n",
       "        1.46727356e+02, 1.36838423e+02, 1.27615971e+02, 1.19015082e+02,\n",
       "        1.10993864e+02, 1.03513249e+02, 9.65368024e+01, 9.00305450e+01,\n",
       "        8.39627876e+01, 7.83039768e+01, 7.30265508e+01, 6.81048057e+01],\n",
       "       [6.53530964e+04, 6.09485164e+04, 5.68407904e+04, 5.30099113e+04,\n",
       "        4.94372207e+04, 4.61053175e+04, 4.29979734e+04, 4.01000539e+04,\n",
       "        3.73974445e+04, 3.48769819e+04, 3.25263901e+04, 3.03342202e+04,\n",
       "        2.82897953e+04, 2.63831578e+04, 2.46050213e+04, 2.29467252e+04,\n",
       "        2.14001927e+04, 1.99578913e+04, 1.86127963e+04, 1.73583561e+04,\n",
       "        1.61884610e+04, 1.50974129e+04, 1.40798978e+04, 1.31309598e+04,\n",
       "        1.22459771e+04, 1.14206392e+04, 1.06509263e+04, 9.93308955e+03,\n",
       "        9.26363256e+03, 8.63929473e+03, 8.05703518e+03, 7.51401797e+03,\n",
       "        7.00759831e+03, 6.53530964e+03, 6.09485164e+03, 5.68407904e+03,\n",
       "        5.30099113e+03, 4.94372207e+03, 4.61053175e+03, 4.29979734e+03,\n",
       "        4.01000539e+03, 3.73974445e+03, 3.48769819e+03, 3.25263901e+03,\n",
       "        3.03342202e+03, 2.82897953e+03, 2.63831578e+03, 2.46050213e+03,\n",
       "        2.29467252e+03, 2.14001927e+03, 1.99578913e+03, 1.86127963e+03,\n",
       "        1.73583561e+03, 1.61884610e+03, 1.50974129e+03, 1.40798978e+03,\n",
       "        1.31309598e+03, 1.22459771e+03, 1.14206392e+03, 1.06509263e+03,\n",
       "        9.93308955e+02, 9.26363256e+02, 8.63929473e+02, 8.05703518e+02,\n",
       "        7.51401797e+02, 7.00759831e+02, 6.53530964e+02, 6.09485164e+02,\n",
       "        5.68407904e+02, 5.30099113e+02, 4.94372207e+02, 4.61053175e+02,\n",
       "        4.29979734e+02, 4.01000539e+02, 3.73974445e+02, 3.48769819e+02,\n",
       "        3.25263901e+02, 3.03342202e+02, 2.82897953e+02, 2.63831578e+02,\n",
       "        2.46050213e+02, 2.29467252e+02, 2.14001927e+02, 1.99578913e+02,\n",
       "        1.86127963e+02, 1.73583561e+02, 1.61884610e+02, 1.50974129e+02,\n",
       "        1.40798978e+02, 1.31309598e+02, 1.22459771e+02, 1.14206392e+02,\n",
       "        1.06509263e+02, 9.93308955e+01, 9.26363256e+01, 8.63929473e+01,\n",
       "        8.05703518e+01, 7.51401797e+01, 7.00759831e+01, 6.53530964e+01],\n",
       "       [6.46995654e+04, 6.03390312e+04, 5.62723825e+04, 5.24798122e+04,\n",
       "        4.89428485e+04, 4.56442643e+04, 4.25679937e+04, 3.96990534e+04,\n",
       "        3.70234701e+04, 3.45282121e+04, 3.22011262e+04, 3.00308780e+04,\n",
       "        2.80068974e+04, 2.61193262e+04, 2.43589710e+04, 2.27172579e+04,\n",
       "        2.11861908e+04, 1.97583124e+04, 1.84266683e+04, 1.71847725e+04,\n",
       "        1.60265764e+04, 1.49464388e+04, 1.39390988e+04, 1.29996502e+04,\n",
       "        1.21235173e+04, 1.13064328e+04, 1.05444171e+04, 9.83375865e+03,\n",
       "        9.17099623e+03, 8.55290178e+03, 7.97646482e+03, 7.43887779e+03,\n",
       "        6.93752233e+03, 6.46995654e+03, 6.03390312e+03, 5.62723825e+03,\n",
       "        5.24798122e+03, 4.89428485e+03, 4.56442643e+03, 4.25679937e+03,\n",
       "        3.96990534e+03, 3.70234701e+03, 3.45282121e+03, 3.22011262e+03,\n",
       "        3.00308780e+03, 2.80068974e+03, 2.61193262e+03, 2.43589710e+03,\n",
       "        2.27172579e+03, 2.11861908e+03, 1.97583124e+03, 1.84266683e+03,\n",
       "        1.71847725e+03, 1.60265764e+03, 1.49464388e+03, 1.39390988e+03,\n",
       "        1.29996502e+03, 1.21235173e+03, 1.13064328e+03, 1.05444171e+03,\n",
       "        9.83375865e+02, 9.17099623e+02, 8.55290178e+02, 7.97646482e+02,\n",
       "        7.43887779e+02, 6.93752233e+02, 6.46995654e+02, 6.03390312e+02,\n",
       "        5.62723825e+02, 5.24798122e+02, 4.89428485e+02, 4.56442643e+02,\n",
       "        4.25679937e+02, 3.96990534e+02, 3.70234701e+02, 3.45282121e+02,\n",
       "        3.22011262e+02, 3.00308780e+02, 2.80068974e+02, 2.61193262e+02,\n",
       "        2.43589710e+02, 2.27172579e+02, 2.11861908e+02, 1.97583124e+02,\n",
       "        1.84266683e+02, 1.71847725e+02, 1.60265764e+02, 1.49464388e+02,\n",
       "        1.39390988e+02, 1.29996502e+02, 1.21235173e+02, 1.13064328e+02,\n",
       "        1.05444171e+02, 9.83375865e+01, 9.17099623e+01, 8.55290178e+01,\n",
       "        7.97646482e+01, 7.43887779e+01, 6.93752233e+01, 6.46995654e+01]])"
      ]
     },
     "execution_count": 13,
     "metadata": {},
     "output_type": "execute_result"
    }
   ],
   "source": [
    "model.alphas_"
   ]
  },
  {
   "cell_type": "code",
   "execution_count": 14,
   "metadata": {},
   "outputs": [
    {
     "data": {
      "text/plain": [
       "1.0"
      ]
     },
     "execution_count": 14,
     "metadata": {},
     "output_type": "execute_result"
    }
   ],
   "source": [
    "model.l1_ratio_"
   ]
  },
  {
   "cell_type": "code",
   "execution_count": 16,
   "metadata": {},
   "outputs": [
    {
     "name": "stdout",
     "output_type": "stream",
     "text": [
      "14190.943058112607\n",
      "20554.56264421532\n"
     ]
    }
   ],
   "source": [
    "ypred = model.predict(Xtest)\n",
    "print(mean_absolute_error(ytest, ypred))\n",
    "print(mean_squared_error(ytest, ypred, squared=False))"
   ]
  },
  {
   "cell_type": "code",
   "execution_count": 17,
   "metadata": {},
   "outputs": [
    {
     "data": {
      "text/plain": [
       "105.44417070706528"
      ]
     },
     "execution_count": 17,
     "metadata": {},
     "output_type": "execute_result"
    }
   ],
   "source": [
    "model.alpha_"
   ]
  },
  {
   "cell_type": "code",
   "execution_count": 22,
   "metadata": {},
   "outputs": [
    {
     "data": {
      "text/plain": [
       "1.0"
      ]
     },
     "execution_count": 22,
     "metadata": {},
     "output_type": "execute_result"
    }
   ],
   "source": [
    "model."
   ]
  },
  {
   "cell_type": "markdown",
   "metadata": {},
   "source": [
    "**TASK:  The Elastic Net model has two main parameters, alpha and the L1 ratio. Create a dictionary parameter grid of values for the ElasticNet. Feel free to play around with these values, keep in mind, you may not match up exactly with the solution choices**"
   ]
  },
  {
   "cell_type": "code",
   "execution_count": 18,
   "metadata": {},
   "outputs": [],
   "source": [
    "from sklearn.linear_model import ElasticNet"
   ]
  },
  {
   "cell_type": "markdown",
   "metadata": {},
   "source": [
    "**TASK: Using scikit-learn create a GridSearchCV object and run a grid search for the best parameters for your model based on your scaled training data. [In case you are curious about the warnings you may recieve for certain parameter combinations](https://stackoverflow.com/questions/20681864/lasso-on-sklearn-does-not-converge)**"
   ]
  },
  {
   "cell_type": "code",
   "execution_count": 25,
   "metadata": {},
   "outputs": [],
   "source": [
    "model = ElasticNet()"
   ]
  },
  {
   "cell_type": "code",
   "execution_count": 24,
   "metadata": {},
   "outputs": [],
   "source": [
    "param_grid = {'alpha': [0.1,0.5,1,10,20,50,100,120,150,200],\n",
    "             'l1_ratio':[0.01, .1, 0.3, .5, .7, .9, .95, .99, 1 ]}"
   ]
  },
  {
   "cell_type": "code",
   "execution_count": 31,
   "metadata": {},
   "outputs": [],
   "source": [
    "grid = GridSearchCV(model,\n",
    "                   param_grid= param_grid,\n",
    "                   n_jobs=-1,\n",
    "                   scoring='neg_mean_squared_error')"
   ]
  },
  {
   "cell_type": "code",
   "execution_count": 32,
   "metadata": {},
   "outputs": [
    {
     "data": {
      "text/plain": [
       "GridSearchCV(estimator=ElasticNet(), n_jobs=-1,\n",
       "             param_grid={'alpha': [0.1, 0.5, 1, 10, 20, 50, 100, 120, 150, 200],\n",
       "                         'l1_ratio': [0.01, 0.1, 0.3, 0.5, 0.7, 0.9, 0.95, 0.99,\n",
       "                                      1]},\n",
       "             scoring='neg_mean_squared_error')"
      ]
     },
     "execution_count": 32,
     "metadata": {},
     "output_type": "execute_result"
    }
   ],
   "source": [
    "grid.fit(Xtrain, ytrain)"
   ]
  },
  {
   "cell_type": "code",
   "execution_count": 33,
   "metadata": {},
   "outputs": [],
   "source": [
    "ypred = grid.predict(Xtest)"
   ]
  },
  {
   "cell_type": "code",
   "execution_count": 34,
   "metadata": {},
   "outputs": [
    {
     "name": "stdout",
     "output_type": "stream",
     "text": [
      "14186.489927522685\n",
      "20558.186924858357\n"
     ]
    }
   ],
   "source": [
    "print(mean_absolute_error(ytest, ypred))\n",
    "print(mean_squared_error(ytest, ypred, squared=False))"
   ]
  },
  {
   "cell_type": "code",
   "execution_count": 35,
   "metadata": {},
   "outputs": [
    {
     "data": {
      "text/plain": [
       "{'alpha': 120, 'l1_ratio': 1}"
      ]
     },
     "execution_count": 35,
     "metadata": {},
     "output_type": "execute_result"
    }
   ],
   "source": [
    "grid.best_params_"
   ]
  },
  {
   "cell_type": "markdown",
   "metadata": {},
   "source": [
    "**TASK: Display the best combination of parameters for your model**"
   ]
  },
  {
   "cell_type": "code",
   "execution_count": 54,
   "metadata": {},
   "outputs": [
    {
     "data": {
      "text/plain": [
       "{'alpha': 100, 'l1_ratio': 1}"
      ]
     },
     "execution_count": 54,
     "metadata": {},
     "output_type": "execute_result"
    }
   ],
   "source": []
  },
  {
   "cell_type": "markdown",
   "metadata": {},
   "source": [
    "**TASK: Evaluate your model's performance on the unseen 10% scaled test set. In the solutions notebook we achieved an MAE of $\\$$14149 and a RMSE of $\\$$20532**"
   ]
  },
  {
   "cell_type": "code",
   "execution_count": 45,
   "metadata": {},
   "outputs": [],
   "source": []
  },
  {
   "cell_type": "code",
   "execution_count": 46,
   "metadata": {},
   "outputs": [],
   "source": []
  },
  {
   "cell_type": "code",
   "execution_count": 47,
   "metadata": {},
   "outputs": [
    {
     "data": {
      "text/plain": [
       "14149.055026374837"
      ]
     },
     "execution_count": 47,
     "metadata": {},
     "output_type": "execute_result"
    }
   ],
   "source": []
  },
  {
   "cell_type": "code",
   "execution_count": 48,
   "metadata": {},
   "outputs": [
    {
     "data": {
      "text/plain": [
       "20532.890234901013"
      ]
     },
     "execution_count": 48,
     "metadata": {},
     "output_type": "execute_result"
    }
   ],
   "source": []
  },
  {
   "cell_type": "markdown",
   "metadata": {},
   "source": [
    "## Great work!\n",
    "\n",
    "----"
   ]
  }
 ],
 "metadata": {
  "kernelspec": {
   "display_name": "Python 3",
   "language": "python",
   "name": "python3"
  },
  "language_info": {
   "codemirror_mode": {
    "name": "ipython",
    "version": 3
   },
   "file_extension": ".py",
   "mimetype": "text/x-python",
   "name": "python",
   "nbconvert_exporter": "python",
   "pygments_lexer": "ipython3",
   "version": "3.8.8"
  }
 },
 "nbformat": 4,
 "nbformat_minor": 2
}
